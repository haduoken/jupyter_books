{
 "cells": [
  {
   "cell_type": "code",
   "execution_count": 1,
   "metadata": {},
   "outputs": [
    {
     "data": {
      "text/plain": [
       "<xml.etree.ElementTree.ElementTree at 0x7f0e78803518>"
      ]
     },
     "execution_count": 1,
     "metadata": {},
     "output_type": "execute_result"
    }
   ],
   "source": [
    "'''\n",
    "<students>  \n",
    "    <student no=\"2009081097\">  \n",
    "        <name nickname=\"apple\">jack</name>  \n",
    "        <gender>M</gender>  \n",
    "        <age updated=\"yes\">89</age>  \n",
    "        <score subject=\"math\">97</score>  \n",
    "        <score subject=\"chinese\">90</score>  \n",
    "    </student>  \n",
    "    <student no=\"2009081098\">  \n",
    "        <name nickname=\"apple\">sunny</name>  \n",
    "        <gender>W</gender>  \n",
    "        <age updated=\"yes\">90</age>  \n",
    "        <score subject=\"math\">87</score>  \n",
    "        <score subject=\"chinese\">96</score>  \n",
    "    </student>  \n",
    "    <student no=\"2009081099\">  \n",
    "        <name nickname=\"apple\">Anna</name>  \n",
    "        <gender>M</gender>  \n",
    "        <age updated=\"yes\">88</age>  \n",
    "        <score subject=\"math\">64</score>  \n",
    "        <score subject=\"chinese\">98</score>  \n",
    "    </student>  \n",
    "</students>\n",
    "'''\n",
    "\n",
    "\n",
    "import xml.etree.ElementTree as et\n",
    "\n",
    "et_test_xml = et.parse('test.xml')\n",
    "# ElementTree方法的写方法\n",
    "# et_test_xml.write('data.xml')\n",
    "et_test_xml"
   ]
  },
  {
   "cell_type": "code",
   "execution_count": 2,
   "metadata": {},
   "outputs": [
    {
     "data": {
      "text/plain": [
       "<Element 'students' at 0x7f0e78817638>"
      ]
     },
     "execution_count": 2,
     "metadata": {},
     "output_type": "execute_result"
    }
   ],
   "source": [
    "root = et_test_xml.getroot()\n",
    "root"
   ]
  },
  {
   "cell_type": "code",
   "execution_count": 3,
   "metadata": {},
   "outputs": [
    {
     "data": {
      "text/plain": [
       "'jack'"
      ]
     },
     "execution_count": 3,
     "metadata": {},
     "output_type": "execute_result"
    }
   ],
   "source": [
    "# 每一个element对象都有的属性有 \n",
    "root.tag  #标签名字\n",
    "root.text # 标签里面的东西, 除了子element外的东西\n",
    "root.attrib # 标签的其他属性\n",
    "root[0][0].text"
   ]
  },
  {
   "cell_type": "code",
   "execution_count": 4,
   "metadata": {},
   "outputs": [
    {
     "data": {
      "text/plain": [
       "'apple'"
      ]
     },
     "execution_count": 4,
     "metadata": {},
     "output_type": "execute_result"
    }
   ],
   "source": [
    "# element的get方法, 访问attrib的dict里面的key对应的value\n",
    "root[0][0].get('nickname')"
   ]
  },
  {
   "cell_type": "code",
   "execution_count": 5,
   "metadata": {},
   "outputs": [
    {
     "name": "stdout",
     "output_type": "stream",
     "text": [
      "<Element 'student' at 0x7f0e7b06f548>\n",
      "yes\n",
      "2009081097\n",
      "<Element 'student' at 0x7f0e63fcec78>\n",
      "yes\n",
      "2009081098\n",
      "<Element 'student' at 0x7f0e63fcee58>\n",
      "yes\n",
      "2009081099\n"
     ]
    }
   ],
   "source": [
    "for name in root.findall(\"student\"):  \n",
    "  print(name)\n",
    "  # 查找一个具体的元素  \n",
    "  print(name.find(\"age\").get(\"updated\"))\n",
    "  #获取属性\n",
    "  print(name.get(\"no\"))"
   ]
  },
  {
   "cell_type": "code",
   "execution_count": 6,
   "metadata": {},
   "outputs": [
    {
     "name": "stdout",
     "output_type": "stream",
     "text": [
      "<Element 'student' at 0x7f0e7b06f548>\n",
      "<Element 'student' at 0x7f0e63fcec78>\n",
      "<Element 'student' at 0x7f0e63fcee58>\n"
     ]
    }
   ],
   "source": [
    "# 另外一种迭代方法\n",
    "for child in root.iter(\"student\"):  \n",
    "    print(child)\n",
    "    # 通过set 设置attrib\n",
    "    child.find(\"name\").set(\"nickname\",\"apple\")"
   ]
  },
  {
   "cell_type": "code",
   "execution_count": 7,
   "metadata": {},
   "outputs": [
    {
     "name": "stdout",
     "output_type": "stream",
     "text": [
      "<father>Jason<son>Lan</son><daughter>sunny</daughter></father>\n",
      "None\n"
     ]
    }
   ],
   "source": [
    "father = et.Element(\"father\")\n",
    "father.text = \"Jason\"\n",
    "son = et.SubElement(father,\"son\") \n",
    "son.text = \"Lan\"  \n",
    "daughter=et.SubElement(father,\"daughter\") \n",
    "daughter.text = \"sunny\"    \n",
    "print(et.dump(father)) "
   ]
  },
  {
   "cell_type": "code",
   "execution_count": 10,
   "metadata": {},
   "outputs": [
    {
     "name": "stdout",
     "output_type": "stream",
     "text": [
      "<Element 'student' at 0x7f0e7b06f548>\n",
      "iterator node name is student , attr is {'no': '2009081097'}\n",
      "<Element 'student' at 0x7f0e63fcec78>\n",
      "iterator node name is student , attr is {'no': '2009081098'}\n",
      "<Element 'student' at 0x7f0e63fcee58>\n",
      "iterator node name is student , attr is {'no': '2009081099'}\n"
     ]
    }
   ],
   "source": [
    "for child in root:\n",
    "  print(child)\n",
    "  print(\"iterator node name is {} , attr is {}\".format(child.tag,child.attrib))"
   ]
  }
 ],
 "metadata": {
  "kernelspec": {
   "display_name": "Python 3",
   "language": "python",
   "name": "python3"
  },
  "language_info": {
   "codemirror_mode": {
    "name": "ipython",
    "version": 3
   },
   "file_extension": ".py",
   "mimetype": "text/x-python",
   "name": "python",
   "nbconvert_exporter": "python",
   "pygments_lexer": "ipython3",
   "version": "3.5.2"
  }
 },
 "nbformat": 4,
 "nbformat_minor": 2
}
